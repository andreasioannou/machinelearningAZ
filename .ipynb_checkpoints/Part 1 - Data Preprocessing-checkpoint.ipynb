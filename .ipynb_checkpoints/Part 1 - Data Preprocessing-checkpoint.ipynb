{
  "cells": [
    {
      "metadata": {},
      "cell_type": "markdown",
      "source": "# Part 1 - Data Preprocessing\n\n## Importing the libraries\n\nThe first step is to import all the useful libraries we will use to create Machine Learning models"
    },
    {
      "metadata": {
        "trusted": true
      },
      "cell_type": "code",
      "source": "import numpy as np\nimport matplotlib.pyplot as plt\nimport pandas as pd",
      "execution_count": 2,
      "outputs": []
    },
    {
      "metadata": {},
      "cell_type": "markdown",
      "source": "## Importing the dataset\n\nThe dataset we will use in this pre processing tutorial we will use the file `Data.csv`."
    },
    {
      "metadata": {
        "trusted": true
      },
      "cell_type": "code",
      "source": "dataset = pd.read_csv('Data.csv')\ndataset",
      "execution_count": 3,
      "outputs": [
        {
          "output_type": "execute_result",
          "execution_count": 3,
          "data": {
            "text/html": "<div>\n<style scoped>\n    .dataframe tbody tr th:only-of-type {\n        vertical-align: middle;\n    }\n\n    .dataframe tbody tr th {\n        vertical-align: top;\n    }\n\n    .dataframe thead th {\n        text-align: right;\n    }\n</style>\n<table border=\"1\" class=\"dataframe\">\n  <thead>\n    <tr style=\"text-align: right;\">\n      <th></th>\n      <th>Country</th>\n      <th>Age</th>\n      <th>Salary</th>\n      <th>Purchased</th>\n    </tr>\n  </thead>\n  <tbody>\n    <tr>\n      <th>0</th>\n      <td>France</td>\n      <td>44.0</td>\n      <td>72000.0</td>\n      <td>No</td>\n    </tr>\n    <tr>\n      <th>1</th>\n      <td>Spain</td>\n      <td>27.0</td>\n      <td>48000.0</td>\n      <td>Yes</td>\n    </tr>\n    <tr>\n      <th>2</th>\n      <td>Germany</td>\n      <td>30.0</td>\n      <td>54000.0</td>\n      <td>No</td>\n    </tr>\n    <tr>\n      <th>3</th>\n      <td>Spain</td>\n      <td>38.0</td>\n      <td>61000.0</td>\n      <td>No</td>\n    </tr>\n    <tr>\n      <th>4</th>\n      <td>Germany</td>\n      <td>40.0</td>\n      <td>NaN</td>\n      <td>Yes</td>\n    </tr>\n    <tr>\n      <th>5</th>\n      <td>France</td>\n      <td>35.0</td>\n      <td>58000.0</td>\n      <td>Yes</td>\n    </tr>\n    <tr>\n      <th>6</th>\n      <td>Spain</td>\n      <td>NaN</td>\n      <td>52000.0</td>\n      <td>No</td>\n    </tr>\n    <tr>\n      <th>7</th>\n      <td>France</td>\n      <td>48.0</td>\n      <td>79000.0</td>\n      <td>Yes</td>\n    </tr>\n    <tr>\n      <th>8</th>\n      <td>Germany</td>\n      <td>50.0</td>\n      <td>83000.0</td>\n      <td>No</td>\n    </tr>\n    <tr>\n      <th>9</th>\n      <td>France</td>\n      <td>37.0</td>\n      <td>67000.0</td>\n      <td>Yes</td>\n    </tr>\n  </tbody>\n</table>\n</div>",
            "text/plain": "   Country   Age   Salary Purchased\n0   France  44.0  72000.0        No\n1    Spain  27.0  48000.0       Yes\n2  Germany  30.0  54000.0        No\n3    Spain  38.0  61000.0        No\n4  Germany  40.0      NaN       Yes\n5   France  35.0  58000.0       Yes\n6    Spain   NaN  52000.0        No\n7   France  48.0  79000.0       Yes\n8  Germany  50.0  83000.0        No\n9   France  37.0  67000.0       Yes"
          },
          "metadata": {}
        }
      ]
    },
    {
      "metadata": {},
      "cell_type": "markdown",
      "source": "## Missing data\n\nOption 1: Drop all the data which has missing. <br> Option 2: Replace with the mean instead."
    },
    {
      "metadata": {
        "trusted": true,
        "scrolled": true
      },
      "cell_type": "code",
      "source": "#Taking care of missing data\ndata = dataset.fillna(dataset.mean())\ndata",
      "execution_count": 4,
      "outputs": [
        {
          "output_type": "execute_result",
          "execution_count": 4,
          "data": {
            "text/html": "<div>\n<style scoped>\n    .dataframe tbody tr th:only-of-type {\n        vertical-align: middle;\n    }\n\n    .dataframe tbody tr th {\n        vertical-align: top;\n    }\n\n    .dataframe thead th {\n        text-align: right;\n    }\n</style>\n<table border=\"1\" class=\"dataframe\">\n  <thead>\n    <tr style=\"text-align: right;\">\n      <th></th>\n      <th>Country</th>\n      <th>Age</th>\n      <th>Salary</th>\n      <th>Purchased</th>\n    </tr>\n  </thead>\n  <tbody>\n    <tr>\n      <th>0</th>\n      <td>France</td>\n      <td>44.000000</td>\n      <td>72000.000000</td>\n      <td>No</td>\n    </tr>\n    <tr>\n      <th>1</th>\n      <td>Spain</td>\n      <td>27.000000</td>\n      <td>48000.000000</td>\n      <td>Yes</td>\n    </tr>\n    <tr>\n      <th>2</th>\n      <td>Germany</td>\n      <td>30.000000</td>\n      <td>54000.000000</td>\n      <td>No</td>\n    </tr>\n    <tr>\n      <th>3</th>\n      <td>Spain</td>\n      <td>38.000000</td>\n      <td>61000.000000</td>\n      <td>No</td>\n    </tr>\n    <tr>\n      <th>4</th>\n      <td>Germany</td>\n      <td>40.000000</td>\n      <td>63777.777778</td>\n      <td>Yes</td>\n    </tr>\n    <tr>\n      <th>5</th>\n      <td>France</td>\n      <td>35.000000</td>\n      <td>58000.000000</td>\n      <td>Yes</td>\n    </tr>\n    <tr>\n      <th>6</th>\n      <td>Spain</td>\n      <td>38.777778</td>\n      <td>52000.000000</td>\n      <td>No</td>\n    </tr>\n    <tr>\n      <th>7</th>\n      <td>France</td>\n      <td>48.000000</td>\n      <td>79000.000000</td>\n      <td>Yes</td>\n    </tr>\n    <tr>\n      <th>8</th>\n      <td>Germany</td>\n      <td>50.000000</td>\n      <td>83000.000000</td>\n      <td>No</td>\n    </tr>\n    <tr>\n      <th>9</th>\n      <td>France</td>\n      <td>37.000000</td>\n      <td>67000.000000</td>\n      <td>Yes</td>\n    </tr>\n  </tbody>\n</table>\n</div>",
            "text/plain": "   Country        Age        Salary Purchased\n0   France  44.000000  72000.000000        No\n1    Spain  27.000000  48000.000000       Yes\n2  Germany  30.000000  54000.000000        No\n3    Spain  38.000000  61000.000000        No\n4  Germany  40.000000  63777.777778       Yes\n5   France  35.000000  58000.000000       Yes\n6    Spain  38.777778  52000.000000        No\n7   France  48.000000  79000.000000       Yes\n8  Germany  50.000000  83000.000000        No\n9   France  37.000000  67000.000000       Yes"
          },
          "metadata": {}
        }
      ]
    },
    {
      "metadata": {},
      "cell_type": "markdown",
      "source": "## Categorical data"
    },
    {
      "metadata": {},
      "cell_type": "markdown",
      "source": "We have two categorical variables: country and Purchased. Since ML models are based around numbers and not words we have to encode these categorical variables into numbers. \n\nIn python this can be done using a technique called label encoding. However, this would replace France with 0, Germany with 1, and Spain with 2.\n\nBy doing this we encoded the country problem. However, the problem is that ML models are based on equations and it's great that we changed the labels to include numbers. However, since 1 is greater than 0 and 2 is greater than 1, the model will think that Spain is better than Germany and Germany is better than France. This is not the case. If we had ordered categorical data such as size (small, medium, and large) then it may sense to do this. We have to prevent the machine learning model for thinking one country is better than another. To achieve this we use the one hot encoder technique."
    },
    {
      "metadata": {
        "trusted": true,
        "scrolled": true
      },
      "cell_type": "code",
      "source": "#Taking care of missing data\ncountry_one_hot = pd.get_dummies(dataset['Country'], prefix = 'Country')\ndata_one_hot = data.join(country_one_hot).drop(columns=['Country'])\ndata_one_hot",
      "execution_count": 5,
      "outputs": [
        {
          "output_type": "execute_result",
          "execution_count": 5,
          "data": {
            "text/html": "<div>\n<style scoped>\n    .dataframe tbody tr th:only-of-type {\n        vertical-align: middle;\n    }\n\n    .dataframe tbody tr th {\n        vertical-align: top;\n    }\n\n    .dataframe thead th {\n        text-align: right;\n    }\n</style>\n<table border=\"1\" class=\"dataframe\">\n  <thead>\n    <tr style=\"text-align: right;\">\n      <th></th>\n      <th>Age</th>\n      <th>Salary</th>\n      <th>Purchased</th>\n      <th>Country_France</th>\n      <th>Country_Germany</th>\n      <th>Country_Spain</th>\n    </tr>\n  </thead>\n  <tbody>\n    <tr>\n      <th>0</th>\n      <td>44.000000</td>\n      <td>72000.000000</td>\n      <td>No</td>\n      <td>1</td>\n      <td>0</td>\n      <td>0</td>\n    </tr>\n    <tr>\n      <th>1</th>\n      <td>27.000000</td>\n      <td>48000.000000</td>\n      <td>Yes</td>\n      <td>0</td>\n      <td>0</td>\n      <td>1</td>\n    </tr>\n    <tr>\n      <th>2</th>\n      <td>30.000000</td>\n      <td>54000.000000</td>\n      <td>No</td>\n      <td>0</td>\n      <td>1</td>\n      <td>0</td>\n    </tr>\n    <tr>\n      <th>3</th>\n      <td>38.000000</td>\n      <td>61000.000000</td>\n      <td>No</td>\n      <td>0</td>\n      <td>0</td>\n      <td>1</td>\n    </tr>\n    <tr>\n      <th>4</th>\n      <td>40.000000</td>\n      <td>63777.777778</td>\n      <td>Yes</td>\n      <td>0</td>\n      <td>1</td>\n      <td>0</td>\n    </tr>\n    <tr>\n      <th>5</th>\n      <td>35.000000</td>\n      <td>58000.000000</td>\n      <td>Yes</td>\n      <td>1</td>\n      <td>0</td>\n      <td>0</td>\n    </tr>\n    <tr>\n      <th>6</th>\n      <td>38.777778</td>\n      <td>52000.000000</td>\n      <td>No</td>\n      <td>0</td>\n      <td>0</td>\n      <td>1</td>\n    </tr>\n    <tr>\n      <th>7</th>\n      <td>48.000000</td>\n      <td>79000.000000</td>\n      <td>Yes</td>\n      <td>1</td>\n      <td>0</td>\n      <td>0</td>\n    </tr>\n    <tr>\n      <th>8</th>\n      <td>50.000000</td>\n      <td>83000.000000</td>\n      <td>No</td>\n      <td>0</td>\n      <td>1</td>\n      <td>0</td>\n    </tr>\n    <tr>\n      <th>9</th>\n      <td>37.000000</td>\n      <td>67000.000000</td>\n      <td>Yes</td>\n      <td>1</td>\n      <td>0</td>\n      <td>0</td>\n    </tr>\n  </tbody>\n</table>\n</div>",
            "text/plain": "         Age        Salary Purchased  Country_France  Country_Germany  \\\n0  44.000000  72000.000000        No               1                0   \n1  27.000000  48000.000000       Yes               0                0   \n2  30.000000  54000.000000        No               0                1   \n3  38.000000  61000.000000        No               0                0   \n4  40.000000  63777.777778       Yes               0                1   \n5  35.000000  58000.000000       Yes               1                0   \n6  38.777778  52000.000000        No               0                0   \n7  48.000000  79000.000000       Yes               1                0   \n8  50.000000  83000.000000        No               0                1   \n9  37.000000  67000.000000       Yes               1                0   \n\n   Country_Spain  \n0              0  \n1              1  \n2              0  \n3              1  \n4              0  \n5              0  \n6              1  \n7              0  \n8              0  \n9              0  "
          },
          "metadata": {}
        }
      ]
    },
    {
      "metadata": {
        "trusted": true
      },
      "cell_type": "markdown",
      "source": "For the output column, in our case purchased, the ML model knows this is a categorical variable and that there is no order vetween the two so we won't have to use one hot encoder, just label encoder. In the below code I do this more quickly by leveraging the map function."
    },
    {
      "metadata": {
        "trusted": true
      },
      "cell_type": "code",
      "source": "from sklearn.preprocessing import LabelEncoder\ny = dataset.iloc[:, 3].values\nlabelencoder_y = LabelEncoder()\ny = labelencoder_y.fit_transform(y)\ndataset_oh_label = data_one_hot.copy()\ndataset_oh_label['Purchased'] = y\ndataset_oh_label",
      "execution_count": 16,
      "outputs": [
        {
          "output_type": "execute_result",
          "execution_count": 16,
          "data": {
            "text/html": "<div>\n<style scoped>\n    .dataframe tbody tr th:only-of-type {\n        vertical-align: middle;\n    }\n\n    .dataframe tbody tr th {\n        vertical-align: top;\n    }\n\n    .dataframe thead th {\n        text-align: right;\n    }\n</style>\n<table border=\"1\" class=\"dataframe\">\n  <thead>\n    <tr style=\"text-align: right;\">\n      <th></th>\n      <th>Age</th>\n      <th>Salary</th>\n      <th>Purchased</th>\n      <th>Country_France</th>\n      <th>Country_Germany</th>\n      <th>Country_Spain</th>\n    </tr>\n  </thead>\n  <tbody>\n    <tr>\n      <th>0</th>\n      <td>44.000000</td>\n      <td>72000.000000</td>\n      <td>0</td>\n      <td>1</td>\n      <td>0</td>\n      <td>0</td>\n    </tr>\n    <tr>\n      <th>1</th>\n      <td>27.000000</td>\n      <td>48000.000000</td>\n      <td>1</td>\n      <td>0</td>\n      <td>0</td>\n      <td>1</td>\n    </tr>\n    <tr>\n      <th>2</th>\n      <td>30.000000</td>\n      <td>54000.000000</td>\n      <td>0</td>\n      <td>0</td>\n      <td>1</td>\n      <td>0</td>\n    </tr>\n    <tr>\n      <th>3</th>\n      <td>38.000000</td>\n      <td>61000.000000</td>\n      <td>0</td>\n      <td>0</td>\n      <td>0</td>\n      <td>1</td>\n    </tr>\n    <tr>\n      <th>4</th>\n      <td>40.000000</td>\n      <td>63777.777778</td>\n      <td>1</td>\n      <td>0</td>\n      <td>1</td>\n      <td>0</td>\n    </tr>\n    <tr>\n      <th>5</th>\n      <td>35.000000</td>\n      <td>58000.000000</td>\n      <td>1</td>\n      <td>1</td>\n      <td>0</td>\n      <td>0</td>\n    </tr>\n    <tr>\n      <th>6</th>\n      <td>38.777778</td>\n      <td>52000.000000</td>\n      <td>0</td>\n      <td>0</td>\n      <td>0</td>\n      <td>1</td>\n    </tr>\n    <tr>\n      <th>7</th>\n      <td>48.000000</td>\n      <td>79000.000000</td>\n      <td>1</td>\n      <td>1</td>\n      <td>0</td>\n      <td>0</td>\n    </tr>\n    <tr>\n      <th>8</th>\n      <td>50.000000</td>\n      <td>83000.000000</td>\n      <td>0</td>\n      <td>0</td>\n      <td>1</td>\n      <td>0</td>\n    </tr>\n    <tr>\n      <th>9</th>\n      <td>37.000000</td>\n      <td>67000.000000</td>\n      <td>1</td>\n      <td>1</td>\n      <td>0</td>\n      <td>0</td>\n    </tr>\n  </tbody>\n</table>\n</div>",
            "text/plain": "         Age        Salary  Purchased  Country_France  Country_Germany  \\\n0  44.000000  72000.000000          0               1                0   \n1  27.000000  48000.000000          1               0                0   \n2  30.000000  54000.000000          0               0                1   \n3  38.000000  61000.000000          0               0                0   \n4  40.000000  63777.777778          1               0                1   \n5  35.000000  58000.000000          1               1                0   \n6  38.777778  52000.000000          0               0                0   \n7  48.000000  79000.000000          1               1                0   \n8  50.000000  83000.000000          0               0                1   \n9  37.000000  67000.000000          1               1                0   \n\n   Country_Spain  \n0              0  \n1              1  \n2              0  \n3              1  \n4              0  \n5              0  \n6              1  \n7              0  \n8              0  \n9              0  "
          },
          "metadata": {}
        }
      ]
    },
    {
      "metadata": {
        "trusted": true
      },
      "cell_type": "markdown",
      "source": "## Spitting the dataset into the training set and test set"
    },
    {
      "metadata": {
        "trusted": true
      },
      "cell_type": "code",
      "source": "from sklearn.model_selection import train_test_split \nX = np.asarray(dataset_oh_label.drop(columns=['Purchased']))\ny = np.asarray(dataset_oh_label['Purchased'])\nX_train, X_test, y_train, y_test = train_test_split(X, y, test_size = 0.2, random_state=0)",
      "execution_count": 31,
      "outputs": []
    },
    {
      "metadata": {},
      "cell_type": "markdown",
      "source": "## Feature scaling"
    },
    {
      "metadata": {},
      "cell_type": "markdown",
      "source": "We have age and and salary that are two features that are not on the same scale. This will cause some issues in our ML models. This is because a lot of ML models are based on the *Euclidian distance* between two data observation points.\n\nIn this case the salary feature will dominate the age feature when it comes to computing the Euclidian distance.\n\nThere are two common ways of computing feature scaling.\n\nThe first is standardisation:\n\n$$x_{stand} = \\frac{x - mean(x)}{s(x)}$$\n\nThe second is normalisation:\n\n$$x_{norm} = \\frac{x - min(x)}{max(x)-min(x)}$$"
    },
    {
      "metadata": {
        "trusted": true
      },
      "cell_type": "code",
      "source": "# Feature Scaling\nfrom sklearn.preprocessing import StandardScaler\nsc_X = StandardScaler()\nX_train_sc = sc_X.fit_transform(X_train)\nX_test_sc = sc_X.transform(X_test)",
      "execution_count": 33,
      "outputs": []
    },
    {
      "metadata": {},
      "cell_type": "markdown",
      "source": "Note it's very important to *fit* your scaler on the `X_train` data set and apply that same scaling to the `X_test` set.\n\nDo we need to scale the dummy variables? It depends on the context. How much do you want to keep interpretation in your models. If you do want to keep interpretation, then you can run your ML models without scaling your dummy variables. However, if you don't want to keep interpretation then scale and your ML models will fit better."
    },
    {
      "metadata": {},
      "cell_type": "markdown",
      "source": "Do we need to apply feature scaling to the `y` vector?\n\nFor classification problems with categorical variables as output: **no**.\n\nFor regression problems: in general, **yes**."
    },
    {
      "metadata": {},
      "cell_type": "markdown",
      "source": "**Note feature scaling is often included as an inbuilt feature of several** `sklearn` **models. Ensure you check before using**"
    }
  ],
  "metadata": {
    "kernelspec": {
      "name": "python36",
      "display_name": "Python 3.6",
      "language": "python"
    },
    "language_info": {
      "mimetype": "text/x-python",
      "nbconvert_exporter": "python",
      "name": "python",
      "pygments_lexer": "ipython3",
      "version": "3.6.6",
      "file_extension": ".py",
      "codemirror_mode": {
        "version": 3,
        "name": "ipython"
      }
    }
  },
  "nbformat": 4,
  "nbformat_minor": 1
}