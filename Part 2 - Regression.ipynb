{
  "cells": [
    {
      "metadata": {},
      "cell_type": "markdown",
      "source": "# Part 2 - Regression"
    },
    {
      "metadata": {},
      "cell_type": "markdown",
      "source": "## Simple linear regression\n\n### Get the dataset\n\nThe data set we will be using is `Salary_Data.csv`\n\n### Intuition\n\n$$y = b_0 + b_{1}x_{1}$$\n\nThe simplest way of calculating the regression line is to minimise the sum of the squared difference between data points and the mean:\n\n$$\\sum_{i=1} (y_i - \\hat{y})^2$$"
    },
    {
      "metadata": {},
      "cell_type": "markdown",
      "source": "### Pre-process data"
    },
    {
      "metadata": {
        "trusted": true
      },
      "cell_type": "code",
      "source": "# Import the libraries\nimport numpy as np\nimport matplotlib.pyplot as plt\nimport pandas as pd\n\n# Importing the dataset\ndataset = pd.read_csv('Salary_Data.csv')\nX = dataset.iloc[:, :-1]\ny = dataset.iloc[:, -1]\n\n# Split the dataset\nfrom sklearn.model_selection import train_test_split\nX_train, X_test, y_train, y_test = train_test_split(X, y, test_size=0.2, random_state=0)",
      "execution_count": 6,
      "outputs": []
    },
    {
      "metadata": {},
      "cell_type": "markdown",
      "source": "### Fitting simple linear regression to the training set"
    },
    {
      "metadata": {
        "trusted": true
      },
      "cell_type": "code",
      "source": "# fitting Simple Linear Regression to the training set\nfrom sklearn.linear_model import LinearRegression\nregressor = LinearRegression()\nregressor.fit(X_train, y_train)",
      "execution_count": 43,
      "outputs": [
        {
          "output_type": "execute_result",
          "execution_count": 43,
          "data": {
            "text/plain": "LinearRegression(copy_X=True, fit_intercept=True, n_jobs=None,\n         normalize=False)"
          },
          "metadata": {}
        }
      ]
    },
    {
      "metadata": {},
      "cell_type": "markdown",
      "source": "### Predicting the test set results"
    },
    {
      "metadata": {
        "trusted": true
      },
      "cell_type": "code",
      "source": "y_pred = regressor.predict(X_test)",
      "execution_count": 44,
      "outputs": []
    },
    {
      "metadata": {},
      "cell_type": "markdown",
      "source": "### Visualising the training set results"
    },
    {
      "metadata": {
        "trusted": true
      },
      "cell_type": "code",
      "source": "# Visulaising the training set results\nimport seaborn as sns\nplt.figure(figsize=(14,8))\n#sns.scatterplot(x=X_train.values.flatten(), y=y_train, color='red')\n#sns.lineplot(x=X_train.values.flatten(), y=regressor.predict(X_train), color='blue')\nplt.title(\"Salary vs experience (training set)\")\nplt.legend()\nplt.xlabel(\"Experience /years\")\nplt.ylabel(\"Salary /$\")\n\n",
      "execution_count": 47,
      "outputs": [
        {
          "output_type": "stream",
          "text": "No handles with labels found to put in legend.\n",
          "name": "stderr"
        },
        {
          "output_type": "execute_result",
          "execution_count": 47,
          "data": {
            "text/plain": "Text(0, 0.5, 'Salary /$')"
          },
          "metadata": {}
        },
        {
          "output_type": "display_data",
          "data": {
            "image/png": "[encoded data removed]",
            "text/plain": "<Figure size 1008x576 with 1 Axes>"
          },
          "metadata": {
            "needs_background": "light"
          }
        }
      ]
    },
    {
      "metadata": {},
      "cell_type": "markdown",
      "source": "At this point I got a bit bored so skipped to the next section"
    },
    {
      "metadata": {},
      "cell_type": "markdown",
      "source": "## Multi linear regression"
    },
    {
      "metadata": {},
      "cell_type": "markdown",
      "source": "### Dataset and business problem\n\nThe dataset we are working with is `50_Startups.csv`.\n\n### Intuition\n\n$$y = b_0 + \\sum_{i}b_{i}x_{i}$$\n\n#### Assumptions of a linear regression model\n\n1. Linearity\n2. Homoscedasticity\n3. Multivariate normality\n4. Independence of errors\n5. Lack of multicollinearity\n\n#### Dummy variables\n\nNote that when you have a categorical variable, you introduce dummy variables to make them into numbers that can be used by ML models. But you must omit one dummy variable in the set as otherwise you would introduce an extra degree of freedom.\n\n*Do not fall into the dummy variable trap*\n\n#### P-value\n\nThe p-value is the probability of getting a sample like ours, or more extreme than ours *if* the null hypothesis is true. We assume the null hypothesis is true and then determine how \"strange\" or sample really is. If it's not that strange (a large p-value) then we don't change our minds about the null hypothesis. As the p-value gets smaller, we start wondering if the null really is true and well maybe we should change our minds (and reject the null hypothesis).\n\nA little more detail: A small p-value indicates that by pure luck alone, it would be unlikely to get a sample like the one we have if the null hypothesis is true. If this is small enough we start thinking that maybe we aren’t super lucky and instead our assumption about the null being true is wrong. Thats why we reject with a small p-value.\n\n#### Building a model\n\nFive methods of building models:\n\n1. All-in\n2. Backward elimination\n3. Forward selection\n4. Bidirectional elimination\n5. Score comparison\n\nNote 2, 3, and 4 are examples of *stepwise regression* models. Though often people by default imply that stepwise direction is bidirectional elimination.\n\n##### Backward elimination\n\n1. Select a significance level to stay in the model (e.g. $\\alpha = 0.05$)\n2. Fit the full model with all possible predictors\n3. Consider the predictor with the *highest* p-vale. if $P > \\alpha$ go to 4, else end.\n4. Remove the predictor\n5. Fit model without this variable\n\nRepeat steps 3-5.\n\n##### Forward elimination\n\n1. Select a significance level to enter in the model (e.g. $\\alpha = 0.05$)\n2. Fit all simple regression models $y ~ x_n$ and select the one with the lowest P-value\n3. Keep this variable and fit all possible models with one extra predictor added to the one you already have\n4. Consider the predictor with the loewst p-value, if $P<\\alpha$, go to 3, else end, keeping the previous model\n\n##### Bidirectional elimination\n\n1. Select a significance level to enter and to stay in the model (e.g. $\\alpha_{enter} = 0.05$, $\\alpha_{stay}=0.05)\n2. \n"
    },
    {
      "metadata": {},
      "cell_type": "markdown",
      "source": ""
    },
    {
      "metadata": {
        "trusted": true
      },
      "cell_type": "code",
      "source": "",
      "execution_count": null,
      "outputs": []
    }
  ],
  "metadata": {
    "kernelspec": {
      "name": "python36",
      "display_name": "Python 3.6",
      "language": "python"
    },
    "language_info": {
      "mimetype": "text/x-python",
      "nbconvert_exporter": "python",
      "name": "python",
      "pygments_lexer": "ipython3",
      "version": "3.6.6",
      "file_extension": ".py",
      "codemirror_mode": {
        "version": 3,
        "name": "ipython"
      }
    }
  },
  "nbformat": 4,
  "nbformat_minor": 1
}